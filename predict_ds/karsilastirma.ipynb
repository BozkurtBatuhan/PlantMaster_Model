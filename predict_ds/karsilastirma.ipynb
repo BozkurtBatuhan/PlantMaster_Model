{
 "cells": [
  {
   "cell_type": "markdown",
   "id": "2b455d9d",
   "metadata": {},
   "source": [
    "# Bitki Hastalığı Tanıma Modelleri Karşılaştırmalı Analizi"
   ]
  },
  {
   "cell_type": "code",
   "execution_count": 1,
   "id": "aa33998e",
   "metadata": {},
   "outputs": [],
   "source": [
    "# Gerekli kütüphanelerin yüklenmesi\n",
    "import os\n",
    "import numpy as np\n",
    "import pandas as pd\n",
    "import matplotlib.pyplot as plt\n",
    "import seaborn as sns\n",
    "import plotly.express as px\n",
    "from sklearn.metrics import confusion_matrix, classification_report, accuracy_score\n",
    "import torch\n",
    "from torchvision import transforms, datasets, models\n",
    "from PIL import Image\n",
    "from tqdm import tqdm\n",
    "import warnings\n",
    "warnings.filterwarnings('ignore')\n",
    "\n",
    "plt.style.use('ggplot')\n",
    "plt.rcParams['figure.figsize'] = (12, 6)\n",
    "sns.set_palette(\"husl\")"
   ]
  },
  {
   "cell_type": "markdown",
   "id": "20630c62",
   "metadata": {},
   "source": [
    "# 1. Veri Seti ve Modellerin Tanıtımı"
   ]
  },
  {
   "cell_type": "code",
   "execution_count": 2,
   "id": "08e8e121",
   "metadata": {},
   "outputs": [],
   "source": [
    "# Veri yapılarımız\n",
    "datasets_info = {\n",
    "    \"Internal Test\": \"Eğitimde kullanılan verinin test parçası\",\n",
    "    \"External Test\": \"Tamamen bağımsız yeni veri seti\"\n",
    "}\n",
    "\n",
    "models_info = {\n",
    "    \"DINOv2\": \"Facebook'un DINOv2 modeli (ViT tabanlı)\",\n",
    "    \"EfficientB4\": \"EfficientNet-B4 mimarisi\",\n",
    "    \"MobileNet\": \"MobileNetV2 (Hafif model)\",\n",
    "    \"ResNet50\": \"Klasik ResNet50\",\n",
    "    \"VGG16\": \"VGG16 (Derin CNN)\"\n",
    "}\n",
    "\n",
    "# Veri yolları\n",
    "DATA_PATHS = {\n",
    "    \"Internal Test\": \"/home/bilal/Desktop/Projeler/DuzenlenmisPG-tts/test\",\n",
    "    \"External Test\": \"/home/bilal/Desktop/Projeler/external_test\"\n",
    "}\n",
    "\n",
    "MODEL_PATHS = {\n",
    "    \"DINOv2\": \"/mnt/c/Users/Bilal/Downloads/PlantMaster_Model/PlantMaster_Model/modeller/dinov2/dinov2_best.pth\",\n",
    "    \"EfficientB4\": \"/mnt/c/Users/Bilal/Downloads/PlantMaster_Model/PlantMaster_Model/modeller/efficientb4_output/efficientb4_final_model.pth\",\n",
    "    \"MobileNet\": \"/mnt/c/Users/Bilal/Downloads/PlantMaster_Model/PlantMaster_Model/modeller/mobilnet/best_plant_disease_model_mobilenet.pth\",\n",
    "    \"ResNet50\": \"/mnt/c/Users/Bilal/Downloads/PlantMaster_Model/PlantMaster_Model/modeller/resnet50/best_plant_disease_model_resnet.pth\",\n",
    "    \"VGG16\": \"/mnt/c/Users/Bilal/Downloads/PlantMaster_Model/PlantMaster_Model/modeller/vgg/best_plant_disease_model_vgg.pth\"\n",
    "}"
   ]
  },
  {
   "cell_type": "code",
   "execution_count": 3,
   "id": "417b194f",
   "metadata": {},
   "outputs": [
    {
     "name": "stdout",
     "output_type": "stream",
     "text": [
      "Internal Test verisi yüklendi. Örnek sayısı: 8802\n",
      "External Test verisi yüklendi. Örnek sayısı: 207\n",
      "\n",
      "Sınıf İsimleri: ['Apple___Apple_scab', 'Apple___Black_rot', 'Apple___Cedar_apple_rust', 'Apple___healthy', 'Blueberry___healthy', 'Cherry_(including_sour)___Powdery_mildew', 'Cherry_(including_sour)___healthy', 'Corn_(maize)___Cercospora_leaf_spot Gray_leaf_spot', 'Corn_(maize)___Common_rust_', 'Corn_(maize)___Northern_Leaf_Blight', 'Corn_(maize)___healthy', 'Grape___Black_rot', 'Grape___Esca_(Black_Measles)', 'Grape___Leaf_blight_(Isariopsis_Leaf_Spot)', 'Grape___healthy', 'Orange___Haunglongbing_(Citrus_greening)', 'Peach___Bacterial_spot', 'Peach___healthy', 'Pepper,_bell___Bacterial_spot', 'Pepper,_bell___healthy', 'Potato___Early_blight', 'Potato___Late_blight', 'Potato___healthy', 'Raspberry___healthy', 'Soybean___healthy', 'Squash___Powdery_mildew', 'Strawberry___Leaf_scorch', 'Strawberry___healthy', 'Tomato___Bacterial_spot', 'Tomato___Early_blight', 'Tomato___Late_blight', 'Tomato___Leaf_Mold', 'Tomato___Septoria_leaf_spot', 'Tomato___Spider_mites Two-spotted_spider_mite', 'Tomato___Target_Spot', 'Tomato___Tomato_Yellow_Leaf_Curl_Virus', 'Tomato___Tomato_mosaic_virus', 'Tomato___healthy']\n"
     ]
    }
   ],
   "source": [
    "from torchvision.datasets import ImageFolder\n",
    "# Transform işlemleri\n",
    "test_transform = transforms.Compose([\n",
    "    transforms.Resize(256),\n",
    "    transforms.CenterCrop(224),\n",
    "    transforms.ToTensor(),\n",
    "    transforms.Normalize([0.485, 0.456, 0.406], [0.229, 0.224, 0.225])\n",
    "])\n",
    "\n",
    "# Veri setlerini yükleme\n",
    "def load_datasets():\n",
    "    loaded_datasets = {}\n",
    "    for name, path in DATA_PATHS.items():\n",
    "        try:\n",
    "            dataset = ImageFolder(root=path, transform=test_transform)\n",
    "            loaded_datasets[name] = dataset\n",
    "            print(f\"{name} verisi yüklendi. Örnek sayısı: {len(dataset)}\")\n",
    "        except Exception as e:\n",
    "            print(f\"{name} yüklenirken hata: {str(e)}\")\n",
    "    return loaded_datasets\n",
    "\n",
    "datasets = load_datasets()\n",
    "\n",
    "if \"Internal Test\" in datasets:\n",
    "    class_names = datasets[\"Internal Test\"].classes\n",
    "    num_classes = len(class_names)\n",
    "    print(f\"\\nSınıf İsimleri: {class_names}\")\n",
    "else:\n",
    "    print(\"\\n'Internal Test' verisi yüklenemedi.\")"
   ]
  },
  {
   "cell_type": "code",
   "execution_count": 6,
   "id": "e7cf86ea",
   "metadata": {},
   "outputs": [],
   "source": [
    "from model_predictors import (\n",
    "    DINOv2Predictor,\n",
    "    EfficientB4Predictor,\n",
    "    MobilenetPredictor,\n",
    "    Resnet50Predictor,\n",
    "    Vgg16Predictor\n",
    ")\n",
    "\n",
    "class ModelEvaluator:\n",
    "    def __init__(self, model_name, model_path, class_names):\n",
    "        self.model_name = model_name\n",
    "        self.class_names = class_names\n",
    "        self.predictor = self._load_predictor(model_path)\n",
    "        self.transform = test_transform\n",
    "    \n",
    "    def _load_predictor(self, model_path):\n",
    "        \"\"\"Önceden yazılan predictor sınıflarını kullanarak model yükler\"\"\"\n",
    "        if self.model_name == \"DINOv2\":\n",
    "            return DINOv2Predictor(model_path, self.class_names)\n",
    "        elif self.model_name == \"EfficientB4\":\n",
    "            return EfficientB4Predictor(model_path, self.class_names)\n",
    "        elif self.model_name == \"MobileNet\":\n",
    "            return MobilenetPredictor(model_path, self.class_names)\n",
    "        elif self.model_name == \"ResNet50\":\n",
    "            return Resnet50Predictor(model_path, self.class_names)\n",
    "        elif self.model_name == \"VGG16\":\n",
    "            return Vgg16Predictor(model_path, self.class_names)\n",
    "        else:\n",
    "            raise ValueError(f\"Bilinmeyen model: {self.model_name}\")\n",
    "    \n",
    "    def evaluate(self, dataset):\n",
    "        \"\"\"Modeli veri seti üzerinde değerlendirir\"\"\"\n",
    "        loader = torch.utils.data.DataLoader(dataset, batch_size=32, shuffle=False)\n",
    "        y_true, y_pred = [], []\n",
    "        \n",
    "        with torch.no_grad():\n",
    "            for images, labels in tqdm(loader, desc=f\"{self.model_name} Değerlendirme\"):\n",
    "                # Predictor'ı kullanarak tahmin yapma\n",
    "                batch_preds = []\n",
    "                for img, label in zip(images, labels):\n",
    "                    img_pil = transforms.ToPILImage()(img)\n",
    "                    result = self.predictor.predict(img_pil)\n",
    "                    batch_preds.append(result['class_index'])\n",
    "                    y_true.append(label.item())\n",
    "                \n",
    "                y_pred.extend(batch_preds)\n",
    "        \n",
    "        accuracy = accuracy_score(y_true, y_pred)\n",
    "        cm = confusion_matrix(y_true, y_pred)\n",
    "        cr = classification_report(y_true, y_pred, target_names=self.class_names, output_dict=True)\n",
    "        \n",
    "        return {\n",
    "            \"accuracy\": accuracy,\n",
    "            \"confusion_matrix\": cm,\n",
    "            \"classification_report\": cr,\n",
    "            \"true_labels\": y_true,\n",
    "            \"pred_labels\": y_pred\n",
    "        }"
   ]
  },
  {
   "cell_type": "code",
   "execution_count": null,
   "id": "6a5e9850",
   "metadata": {},
   "outputs": [
    {
     "name": "stdout",
     "output_type": "stream",
     "text": [
      "\n",
      "--------------------------------------------------\n",
      "DINOv2 modeli değerlendiriliyor...\n",
      "\n",
      "Internal Test verisi üzerinde test ediliyor...\n"
     ]
    },
    {
     "name": "stderr",
     "output_type": "stream",
     "text": [
      "DINOv2 Değerlendirme:   2%|▏         | 5/276 [01:33<1:25:11, 18.86s/it]"
     ]
    }
   ],
   "source": [
    "%%time\n",
    "results = {}\n",
    "\n",
    "for model_name, model_path in MODEL_PATHS.items():\n",
    "    print(f\"\\n{'-'*50}\")\n",
    "    print(f\"{model_name} modeli değerlendiriliyor...\")\n",
    "    \n",
    "    evaluator = ModelEvaluator(model_name, model_path, class_names)\n",
    "    model_results = {}\n",
    "    \n",
    "    for ds_name, dataset in datasets.items():\n",
    "        print(f\"\\n{ds_name} verisi üzerinde test ediliyor...\")\n",
    "        model_results[ds_name] = evaluator.evaluate(dataset)\n",
    "    \n",
    "    results[model_name] = model_results\n",
    "    print(f\"{model_name} değerlendirmesi tamamlandı!\")"
   ]
  },
  {
   "cell_type": "code",
   "execution_count": null,
   "id": "75841bd1",
   "metadata": {},
   "outputs": [],
   "source": []
  }
 ],
 "metadata": {
  "kernelspec": {
   "display_name": "pt",
   "language": "python",
   "name": "python3"
  },
  "language_info": {
   "codemirror_mode": {
    "name": "ipython",
    "version": 3
   },
   "file_extension": ".py",
   "mimetype": "text/x-python",
   "name": "python",
   "nbconvert_exporter": "python",
   "pygments_lexer": "ipython3",
   "version": "3.12.9"
  }
 },
 "nbformat": 4,
 "nbformat_minor": 5
}
